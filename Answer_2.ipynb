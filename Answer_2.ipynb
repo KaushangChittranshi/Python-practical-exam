{
  "nbformat": 4,
  "nbformat_minor": 0,
  "metadata": {
    "colab": {
      "name": "Answer 2",
      "provenance": [],
      "authorship_tag": "ABX9TyNmggeBr1Zr361FUQpy2geU",
      "include_colab_link": true
    },
    "kernelspec": {
      "name": "python3",
      "display_name": "Python 3"
    },
    "language_info": {
      "name": "python"
    }
  },
  "cells": [
    {
      "cell_type": "markdown",
      "metadata": {
        "id": "view-in-github",
        "colab_type": "text"
      },
      "source": [
        "<a href=\"https://colab.research.google.com/github/KaushangChittranshi/Python-practical-exam/blob/main/Answer_2.ipynb\" target=\"_parent\"><img src=\"https://colab.research.google.com/assets/colab-badge.svg\" alt=\"Open In Colab\"/></a>"
      ]
    },
    {
      "cell_type": "code",
      "execution_count": 1,
      "metadata": {
        "colab": {
          "base_uri": "https://localhost:8080/"
        },
        "id": "DImFfhHgvFjM",
        "outputId": "1a6b403f-6c4e-4b56-94ce-358a3093dffe"
      },
      "outputs": [
        {
          "output_type": "stream",
          "name": "stdout",
          "text": [
            "(1, 2, 3, 4, 5)\n",
            "(6, 7, 8, 9, 10)\n",
            "\n",
            "tuple: (2, 4, 6, 8, 10)\n",
            "\n",
            "[1, 2, 3, 4, 5, 6, 7, 8, 9, 10, 11, 13, 15]\n",
            "max no. is 10\n",
            "min no. is 1\n"
          ]
        }
      ],
      "source": [
        "# (A)\n",
        "\n",
        "t1 = (1, 2, 3, 4, 5, 6, 7, 8, 9, 10)\n",
        "t1a = t1[:5]\n",
        "t1b = t1[5:]\n",
        "print(t1a)\n",
        "print(t1b)\n",
        "print()\n",
        "\n",
        "# (B)\n",
        "\n",
        "t1 = (1, 2, 3, 4, 5, 6, 7, 8, 9, 10)\n",
        "n = list(t1)\n",
        "list1 = list()\n",
        "for i in n:\n",
        "    if i in n:\n",
        "        if i % 2 == 0:\n",
        "            list1.append(i)\n",
        "    p = tuple(list1)\n",
        "print('tuple:', p)\n",
        "print()\n",
        "\n",
        "# (C)\n",
        "\n",
        "t1 = (1, 2, 3, 4, 5, 6, 7, 8, 9, 10)\n",
        "t2 = (11, 13, 15)\n",
        "a = list(t1)\n",
        "b = list(t2)\n",
        "c = (a + b)\n",
        "print(c)\n",
        "\n",
        "# (D)\n",
        "\n",
        "t1 = (1, 2, 3, 4, 5, 6, 7, 8, 9, 10)\n",
        "max(t1)\n",
        "min(t2)\n",
        "print('max no. is', max(t1))\n",
        "print('min no. is', min(t1))"
      ]
    }
  ]
}