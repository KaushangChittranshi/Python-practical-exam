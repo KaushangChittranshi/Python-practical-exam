{
  "nbformat": 4,
  "nbformat_minor": 0,
  "metadata": {
    "colab": {
      "name": "Answer 1",
      "provenance": [],
      "authorship_tag": "ABX9TyP1kp7LpqvRk/X/H4iddfhE",
      "include_colab_link": true
    },
    "kernelspec": {
      "name": "python3",
      "display_name": "Python 3"
    },
    "language_info": {
      "name": "python"
    }
  },
  "cells": [
    {
      "cell_type": "markdown",
      "metadata": {
        "id": "view-in-github",
        "colab_type": "text"
      },
      "source": [
        "<a href=\"https://colab.research.google.com/github/KaushangChittranshi/Python-practical-exam/blob/main/Answer_1.ipynb\" target=\"_parent\"><img src=\"https://colab.research.google.com/assets/colab-badge.svg\" alt=\"Open In Colab\"/></a>"
      ]
    },
    {
      "cell_type": "code",
      "execution_count": 3,
      "metadata": {
        "colab": {
          "base_uri": "https://localhost:8080/"
        },
        "id": "RUzb5Rop2FgN",
        "outputId": "b0abeb8c-72c5-4103-ff12-21a6d90867e3"
      },
      "outputs": [
        {
          "output_type": "stream",
          "name": "stdout",
          "text": [
            "Enter the value of N -_- : 34\n",
            "sum of first  34 even number is:  1190\n",
            "sum of first  34 odd number is:  1156\n",
            "623\n"
          ]
        }
      ],
      "source": [
        "#Write a function that finds the sum of the\n",
        "#a) first n odd terms\n",
        "#b) first n even terms\n",
        "#c) 1, 2, 4, 3, 5, 7, 9, 6, 8, 10, 11, 13.. till n-th term\n",
        "\n",
        "def even_sum(n):\n",
        "    cnt = 2\n",
        "    sum = 0\n",
        "    i = 1\n",
        "    while i <= n:\n",
        "        sum += cnt\n",
        "        cnt += 2\n",
        "        i = i + 1\n",
        "    return sum\n",
        "\n",
        "def odd_sum(n):\n",
        "    cnt = 1\n",
        "    sum = 0\n",
        "    i = 1\n",
        "    while i <= n:\n",
        "        sum += cnt\n",
        "        cnt += 2\n",
        "        i = i + 1\n",
        "    return sum\n",
        "\n",
        "def findSum(num):\n",
        "    big_1 = 0\n",
        "    smaller_1 = 0\n",
        "    x = 1\n",
        "    cur = 0\n",
        "    ans = 0\n",
        "    while (num > 0):\n",
        "        inc = min(x, num)\n",
        "        num -= inc\n",
        "        if (cur == 0):\n",
        "            ans = ans + odd_sum(big_1 + inc) - odd_sum(big_1)\n",
        "            big_1 += inc\n",
        "        else:\n",
        "            ans = ans + even_sum(smaller_1 + inc) - even_sum(smaller_1)\n",
        "            smaller_1 += inc\n",
        "        x *= 2\n",
        "        cur ^= 1\n",
        "    return(ans)\n",
        "\n",
        "\n",
        "n = int(input(\"Enter the value of N -_- : \"))\n",
        "print(\"sum of first \", n, \"even number is: \", even_sum(n))\n",
        "print(\"sum of first \", n, \"odd number is: \", odd_sum(n))\n",
        "print(findSum(n))"
      ]
    }
  ]
}